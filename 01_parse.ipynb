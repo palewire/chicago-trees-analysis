{
 "cells": [
  {
   "cell_type": "markdown",
   "id": "760e37f1-b54b-46a3-af36-47f0d61df955",
   "metadata": {},
   "source": [
    "# Parse\n",
    "\n",
    "A [PDF data table](https://github.com/palewire/chicago-trees-analysis/blob/main/input/01.01.2008_12.31.2020311CSR.1.pdf) released by the Chicago Department of Transporation was converted into a text file via Tabula. This notebook parses the results and outputs a data table of comma-separated values."
   ]
  },
  {
   "cell_type": "markdown",
   "id": "7ff3bcc5-db24-4e64-9953-da8a9270e954",
   "metadata": {
    "tags": []
   },
   "source": [
    "Import Python tools"
   ]
  },
  {
   "cell_type": "code",
   "execution_count": 4,
   "id": "093bdf4d-a72e-4fda-8834-ce4634baf281",
   "metadata": {},
   "outputs": [],
   "source": [
    "import re\n",
    "import csv\n",
    "import pandas as pd\n",
    "from io import StringIO"
   ]
  },
  {
   "cell_type": "markdown",
   "id": "21d9b2f1-67d6-41ff-8ae0-a7c3a205f3a5",
   "metadata": {},
   "source": [
    "Read in the text file parsed by Tabula."
   ]
  },
  {
   "cell_type": "code",
   "execution_count": 5,
   "id": "59981b19-6f07-4d89-894a-21243cb426e4",
   "metadata": {},
   "outputs": [],
   "source": [
    "with open(\"input/tabula-01.01.2008_12.31.2020311CSR.1.csv\", \"r\") as f:\n",
    "    data = f.readlines()"
   ]
  },
  {
   "cell_type": "markdown",
   "id": "0bf0783f-113e-4221-9291-ab172c9f55ac",
   "metadata": {},
   "source": [
    "Parse the raw data"
   ]
  },
  {
   "cell_type": "code",
   "execution_count": 6,
   "id": "7701d47c-bc6f-4ebd-a666-c3dadba1c714",
   "metadata": {},
   "outputs": [],
   "source": [
    "def is_header(row):\n",
    "    \"\"\"\n",
    "    Identifies if the provided row is a header that can be ignored.\n",
    "    \n",
    "    Returns True or False.\n",
    "    \"\"\"\n",
    "    return row.startswith(\"SR #\")"
   ]
  },
  {
   "cell_type": "code",
   "execution_count": 7,
   "id": "7f9404b2-3aca-4c00-83a5-2b13d3a2a43b",
   "metadata": {},
   "outputs": [],
   "source": [
    "def is_new_row(row):\n",
    "    \"\"\"\n",
    "    Identifies if the provided row is the start of a new record.\n",
    "    \n",
    "    Returns True or False.\n",
    "    \"\"\"\n",
    "    return re.search('^\\d{2}\\-\\d', row)"
   ]
  },
  {
   "cell_type": "code",
   "execution_count": 8,
   "id": "9913d178-000f-4744-8da3-2dc38febda18",
   "metadata": {},
   "outputs": [],
   "source": [
    "record_list = []\n",
    "record = []\n",
    "# Loop through every record in the file\n",
    "for row in data:\n",
    "    # Trim whitespace\n",
    "    row = row.strip()\n",
    "    # If this is a header row, skip it\n",
    "    if is_header(row):\n",
    "        continue\n",
    "    # If this a new row, start a new batch\n",
    "    if is_new_row(row):\n",
    "        if record:\n",
    "            # Add the current one to the master list, too\n",
    "            record_list.append(record)\n",
    "        record = [row]\n",
    "    # If it's not, add it to the current record\n",
    "    else:\n",
    "        record.append(row)"
   ]
  },
  {
   "cell_type": "markdown",
   "id": "27e292b3-1f2e-46cf-a53b-85bf1189a900",
   "metadata": {},
   "source": [
    "Concatenate the raw data"
   ]
  },
  {
   "cell_type": "code",
   "execution_count": 9,
   "id": "ac856bec-b1f9-43bb-853c-2290b2329e10",
   "metadata": {},
   "outputs": [],
   "source": [
    "def parse_record_set(record_set):\n",
    "    \"\"\"\n",
    "    Parses the raw row as as CSV\n",
    "    \"\"\"\n",
    "    row_list = []\n",
    "    for record in record_set:\n",
    "        f = StringIO(record)\n",
    "        reader = csv.reader(f, delimiter=',')\n",
    "        row_list.append(list(reader)[0])\n",
    "    return row_list"
   ]
  },
  {
   "cell_type": "code",
   "execution_count": 10,
   "id": "fc130ecf-88be-4d95-81b9-02dc7b0033a1",
   "metadata": {},
   "outputs": [],
   "source": [
    "def concat_record_set(record_set):\n",
    "    \"\"\"\n",
    "    Combine stacked rows in into a single line of CSV data.\n",
    "    \"\"\"\n",
    "    row_list = parse_record_set(record_set)\n",
    "    value_list = row_list.pop(0)\n",
    "    for row in row_list:\n",
    "        for i, cell in enumerate(row):\n",
    "            if cell:\n",
    "                value_list[i] += f\" {cell.strip()}\"\n",
    "    return value_list"
   ]
  },
  {
   "cell_type": "code",
   "execution_count": 11,
   "id": "6eb95ff4-3f0e-4f5f-83fd-5739f176803f",
   "metadata": {},
   "outputs": [],
   "source": [
    "df = pd.DataFrame(concat_record_set(r) for r in record_list)"
   ]
  },
  {
   "cell_type": "markdown",
   "id": "69ee27b4-3920-45a6-be7f-41a45ab251c1",
   "metadata": {},
   "source": [
    "Tidy up the dataframe"
   ]
  },
  {
   "cell_type": "code",
   "execution_count": 12,
   "id": "bd0100de-97f3-4ce3-8eee-c9849b8e0737",
   "metadata": {},
   "outputs": [],
   "source": [
    "df.columns = [\n",
    "    'sr_number',\n",
    "    'type',\n",
    "    'raw_location',\n",
    "    'area',\n",
    "    'created_date',\n",
    "    'activity_date',\n",
    "    'status',\n",
    "    'group',\n",
    "    'description',\n",
    "]"
   ]
  },
  {
   "cell_type": "code",
   "execution_count": 13,
   "id": "457c2f7d-5d1f-428e-b283-e22bcfda2a85",
   "metadata": {},
   "outputs": [],
   "source": [
    "df['address'] = df.raw_location.apply(lambda x: x.split(\",\")[0].strip())"
   ]
  },
  {
   "cell_type": "markdown",
   "id": "2f776923-ede3-4bac-ae75-2ebeb47044bd",
   "metadata": {},
   "source": [
    "Parse out the wards"
   ]
  },
  {
   "cell_type": "code",
   "execution_count": 14,
   "id": "5137ecf9-fd41-4cfa-9252-f4e3e496e50b",
   "metadata": {},
   "outputs": [],
   "source": [
    "def get_ward(row):\n",
    "    if len(row['area'].strip()) > 0:\n",
    "        return row['area'].strip()\n",
    "    else:\n",
    "        match = re.search(\"\\d{1,2}-Ward\", row['raw_location'])\n",
    "        if match:\n",
    "            return match.group(0)\n",
    "        else:\n",
    "            return pd.NA"
   ]
  },
  {
   "cell_type": "code",
   "execution_count": 15,
   "id": "ccd9ff52-eb77-4512-98de-3f7e21004f87",
   "metadata": {},
   "outputs": [],
   "source": [
    "df['ward'] = df.apply(get_ward, axis=1)"
   ]
  },
  {
   "cell_type": "markdown",
   "id": "d484f0af-aa6c-49d2-bf52-b5ad7da7bb00",
   "metadata": {},
   "source": [
    "Write out the result"
   ]
  },
  {
   "cell_type": "code",
   "execution_count": 17,
   "id": "57f49af7-1b03-4e72-951c-e3962b54b44f",
   "metadata": {},
   "outputs": [],
   "source": [
    "df.to_csv(\"input/parsed-01.01.2008_12.31.2020311CSR.1.csv\", index=False)"
   ]
  }
 ],
 "metadata": {
  "kernelspec": {
   "display_name": "Python 3 (ipykernel)",
   "language": "python",
   "name": "python3"
  },
  "language_info": {
   "codemirror_mode": {
    "name": "ipython",
    "version": 3
   },
   "file_extension": ".py",
   "mimetype": "text/x-python",
   "name": "python",
   "nbconvert_exporter": "python",
   "pygments_lexer": "ipython3",
   "version": "3.9.7"
  }
 },
 "nbformat": 4,
 "nbformat_minor": 5
}
