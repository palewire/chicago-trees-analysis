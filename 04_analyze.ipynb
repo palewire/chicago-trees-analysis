{
 "cells": [
  {
   "cell_type": "markdown",
   "id": "59ffb355-d2ff-49b1-a386-6b00b592703e",
   "metadata": {},
   "source": [
    "# Analysis\n",
    "\n",
    "Interrogating the data we've prepared"
   ]
  },
  {
   "cell_type": "markdown",
   "id": "5501466d-68c9-4fc5-9a5e-54b9aa80b8fc",
   "metadata": {},
   "source": [
    "Import Python tools"
   ]
  },
  {
   "cell_type": "code",
   "execution_count": 4,
   "id": "881501bd-9c44-4984-abf2-a59a1d178dad",
   "metadata": {},
   "outputs": [],
   "source": [
    "import pandas as pd\n",
    "import altair as alt\n",
    "import geopandas as gpd"
   ]
  },
  {
   "cell_type": "code",
   "execution_count": 5,
   "id": "f1a448c8-a74d-4771-81a9-4ae3f5f922f5",
   "metadata": {},
   "outputs": [
    {
     "data": {
      "text/plain": [
       "DataTransformerRegistry.enable('data_server')"
      ]
     },
     "execution_count": 5,
     "metadata": {},
     "output_type": "execute_result"
    }
   ],
   "source": [
    "alt.data_transformers.enable('data_server')"
   ]
  },
  {
   "cell_type": "markdown",
   "id": "767bb62f-5e6e-4ad6-8508-7adf7ae2af18",
   "metadata": {},
   "source": [
    "Read in the the standardized trees data"
   ]
  },
  {
   "cell_type": "code",
   "execution_count": 6,
   "id": "f58982e3-fb09-45b4-80a3-ce30400cc230",
   "metadata": {},
   "outputs": [],
   "source": [
    "df = pd.read_csv(\n",
    "    \"output/trees.csv\",\n",
    "    parse_dates=[\"date\"],\n",
    "    dtype={\"ward\": str}\n",
    ")"
   ]
  },
  {
   "cell_type": "markdown",
   "id": "0d6be7ea-03e5-4009-8ae2-30590f544996",
   "metadata": {},
   "source": [
    "Read in a map of the city's wards"
   ]
  },
  {
   "cell_type": "code",
   "execution_count": 7,
   "id": "a289c5c2-a7e2-49c2-8d0b-1d3723e7e4e5",
   "metadata": {},
   "outputs": [],
   "source": [
    "wards_gdf = gpd.read_file(\"https://data.cityofchicago.org/api/geospatial/sp34-6z76?method=export&format=GeoJSON\")"
   ]
  },
  {
   "cell_type": "markdown",
   "id": "78a7a820-5cb9-4841-942f-119f592a3de9",
   "metadata": {},
   "source": [
    "Read in a map [we've created](https://github.com/palewire/chicago-regions-map) of the city's regions. "
   ]
  },
  {
   "cell_type": "code",
   "execution_count": 8,
   "id": "79f8648c-54fa-492b-82a2-aa5b41eba8bf",
   "metadata": {},
   "outputs": [],
   "source": [
    "regions_gdf = gpd.read_file(\"https://raw.githubusercontent.com/palewire/chicago-regions-map/main/output/regions.geojson\")"
   ]
  },
  {
   "cell_type": "markdown",
   "id": "7d5003de-4c5a-4285-830b-d1224040d8e0",
   "metadata": {},
   "source": [
    "How many total trees have been planted by the three agencies?"
   ]
  },
  {
   "cell_type": "code",
   "execution_count": 9,
   "id": "4f4cb733-c5f0-4dca-9170-1ad6e862666c",
   "metadata": {},
   "outputs": [
    {
     "data": {
      "text/plain": [
       "76940"
      ]
     },
     "execution_count": 9,
     "metadata": {},
     "output_type": "execute_result"
    }
   ],
   "source": [
    "df.trees.sum()"
   ]
  },
  {
   "cell_type": "markdown",
   "id": "4782cd51-02d9-41f3-9a7f-b075d52d7757",
   "metadata": {},
   "source": [
    "How many planted by each source?"
   ]
  },
  {
   "cell_type": "code",
   "execution_count": 10,
   "id": "ae2f30e0-baa5-4f5e-ac47-7c76a78bf967",
   "metadata": {},
   "outputs": [
    {
     "data": {
      "text/plain": [
       "source\n",
       "cdot     12949\n",
       "dss      27554\n",
       "parks    36437\n",
       "Name: trees, dtype: int64"
      ]
     },
     "execution_count": 10,
     "metadata": {},
     "output_type": "execute_result"
    }
   ],
   "source": [
    "df.groupby(\"source\").trees.sum()"
   ]
  },
  {
   "cell_type": "markdown",
   "id": "efed573c-65de-484c-b3c7-9707a7000651",
   "metadata": {},
   "source": [
    "How close is the city to its goal of 1 million new trees?"
   ]
  },
  {
   "cell_type": "code",
   "execution_count": 11,
   "id": "373fddc9-be5f-4270-8504-df1f290f84dd",
   "metadata": {},
   "outputs": [],
   "source": [
    "goal = 1_000_000"
   ]
  },
  {
   "cell_type": "code",
   "execution_count": 12,
   "id": "f2effb65-6bb1-41e1-9c86-effddf4dbab9",
   "metadata": {},
   "outputs": [
    {
     "data": {
      "text/plain": [
       "'7.7%'"
      ]
     },
     "execution_count": 12,
     "metadata": {},
     "output_type": "execute_result"
    }
   ],
   "source": [
    "f\"{(df.trees.sum() / goal)*100:.{1}f}%\""
   ]
  },
  {
   "cell_type": "markdown",
   "id": "02678057-c789-4c64-81be-07321bcea1d1",
   "metadata": {
    "tags": []
   },
   "source": [
    "Which wards got the most? Which got the least?"
   ]
  },
  {
   "cell_type": "code",
   "execution_count": 14,
   "id": "63abcf79-845a-48fd-b05f-d3a5c30ce75b",
   "metadata": {},
   "outputs": [],
   "source": [
    "wards_df = (\n",
    "    df.groupby([\"ward\", \"year\"], dropna=False)\n",
    "        .trees\n",
    "        .sum()\n",
    "        .reset_index()\n",
    "        .pivot(\n",
    "            index=\"ward\",\n",
    "            columns=\"year\",\n",
    "            values=\"trees\"\n",
    "        )\n",
    "        .reset_index()\n",
    "        .sort_values(\"ward\")\n",
    "        .set_index(\"ward\")\n",
    "        .fillna(0)\n",
    ")"
   ]
  },
  {
   "cell_type": "code",
   "execution_count": 15,
   "id": "4816f9ff-cfea-4798-89db-158f289364b6",
   "metadata": {},
   "outputs": [],
   "source": [
    "wards_df['total'] = wards_df.sum(axis=1)"
   ]
  },
  {
   "cell_type": "code",
   "execution_count": 16,
   "id": "2d148e52-c54d-40ff-8a67-54058ed3418d",
   "metadata": {},
   "outputs": [],
   "source": [
    "wards_df = wards_df.reset_index()"
   ]
  },
  {
   "cell_type": "code",
   "execution_count": 17,
   "id": "6e8deeb2-dee1-4e6f-8d95-8b9fb066223f",
   "metadata": {},
   "outputs": [],
   "source": [
    "wards_df.columns = map(str, wards_df.columns)"
   ]
  },
  {
   "cell_type": "code",
   "execution_count": 18,
   "id": "4332ea90-47bf-4b49-9990-7ea102adefb2",
   "metadata": {},
   "outputs": [],
   "source": [
    "merged_gdf = wards_gdf.drop([\"shape_area\", \"shape_leng\"], axis=1).merge(\n",
    "    wards_df,\n",
    "    on=\"ward\",\n",
    "    how=\"inner\"\n",
    ")"
   ]
  },
  {
   "cell_type": "code",
   "execution_count": 19,
   "id": "c3d3b8af-86fb-40d5-892a-d780dca1cc10",
   "metadata": {},
   "outputs": [],
   "source": [
    "merged_gdf.ward = merged_gdf.ward.astype(int)"
   ]
  },
  {
   "cell_type": "code",
   "execution_count": 20,
   "id": "79cdb967-e810-4132-8d5b-29f07419a26e",
   "metadata": {},
   "outputs": [],
   "source": [
    "assert len(merged_gdf) == len(wards_gdf)"
   ]
  },
  {
   "cell_type": "code",
   "execution_count": 22,
   "id": "9705b525-eed9-4acd-9529-d9ff7c0acf05",
   "metadata": {},
   "outputs": [
    {
     "data": {
      "text/plain": [
       "<AxesSubplot:>"
      ]
     },
     "execution_count": 22,
     "metadata": {},
     "output_type": "execute_result"
    },
    {
     "data": {
      "image/png": "[encoded data removed]",
      "text/plain": [
       "<Figure size 1080x648 with 1 Axes>"
      ]
     },
     "metadata": {
      "needs_background": "light"
     },
     "output_type": "display_data"
    }
   ],
   "source": [
    "merged_gdf.plot(\n",
    "    column='total',\n",
    "    cmap='YlGnBu',\n",
    "    figsize=(15,9),   \n",
    "    scheme='quantiles',\n",
    "    k=10,\n",
    "    legend=True\n",
    ")"
   ]
  },
  {
   "cell_type": "code",
   "execution_count": 23,
   "id": "d0b195d3-2392-4649-b754-009d0b0478f3",
   "metadata": {},
   "outputs": [
    {
     "data": {
      "text/plain": [
       "count      50.000000\n",
       "mean      808.240000\n",
       "std       349.623795\n",
       "min       264.000000\n",
       "25%       556.000000\n",
       "50%       715.500000\n",
       "75%       944.750000\n",
       "max      1874.000000\n",
       "Name: total, dtype: float64"
      ]
     },
     "execution_count": 23,
     "metadata": {},
     "output_type": "execute_result"
    }
   ],
   "source": [
    "merged_gdf.total.describe()"
   ]
  },
  {
   "cell_type": "code",
   "execution_count": 24,
   "id": "ab2276aa-4ec9-4469-871f-fb1814519375",
   "metadata": {},
   "outputs": [
    {
     "data": {
      "text/html": [
       "<div>\n",
       "<style scoped>\n",
       "    .dataframe tbody tr th:only-of-type {\n",
       "        vertical-align: middle;\n",
       "    }\n",
       "\n",
       "    .dataframe tbody tr th {\n",
       "        vertical-align: top;\n",
       "    }\n",
       "\n",
       "    .dataframe thead th {\n",
       "        text-align: right;\n",
       "    }\n",
       "</style>\n",
       "<table border=\"1\" class=\"dataframe\">\n",
       "  <thead>\n",
       "    <tr style=\"text-align: right;\">\n",
       "      <th></th>\n",
       "      <th>ward</th>\n",
       "      <th>total</th>\n",
       "    </tr>\n",
       "  </thead>\n",
       "  <tbody>\n",
       "    <tr>\n",
       "      <th>45</th>\n",
       "      <td>27</td>\n",
       "      <td>1874.0</td>\n",
       "    </tr>\n",
       "    <tr>\n",
       "      <th>28</th>\n",
       "      <td>41</td>\n",
       "      <td>1714.0</td>\n",
       "    </tr>\n",
       "    <tr>\n",
       "      <th>49</th>\n",
       "      <td>45</td>\n",
       "      <td>1497.0</td>\n",
       "    </tr>\n",
       "    <tr>\n",
       "      <th>22</th>\n",
       "      <td>28</td>\n",
       "      <td>1363.0</td>\n",
       "    </tr>\n",
       "    <tr>\n",
       "      <th>41</th>\n",
       "      <td>19</td>\n",
       "      <td>1332.0</td>\n",
       "    </tr>\n",
       "  </tbody>\n",
       "</table>\n",
       "</div>"
      ],
      "text/plain": [
       "    ward   total\n",
       "45    27  1874.0\n",
       "28    41  1714.0\n",
       "49    45  1497.0\n",
       "22    28  1363.0\n",
       "41    19  1332.0"
      ]
     },
     "execution_count": 24,
     "metadata": {},
     "output_type": "execute_result"
    }
   ],
   "source": [
    "merged_gdf.sort_values(\"total\", ascending=False).head()[[\n",
    "    'ward',\n",
    "    'total'\n",
    "]]"
   ]
  },
  {
   "cell_type": "code",
   "execution_count": 25,
   "id": "bba27852-bb2c-4cf3-b4a2-d99a2a67d9b0",
   "metadata": {},
   "outputs": [
    {
     "data": {
      "text/html": [
       "<div>\n",
       "<style scoped>\n",
       "    .dataframe tbody tr th:only-of-type {\n",
       "        vertical-align: middle;\n",
       "    }\n",
       "\n",
       "    .dataframe tbody tr th {\n",
       "        vertical-align: top;\n",
       "    }\n",
       "\n",
       "    .dataframe thead th {\n",
       "        text-align: right;\n",
       "    }\n",
       "</style>\n",
       "<table border=\"1\" class=\"dataframe\">\n",
       "  <thead>\n",
       "    <tr style=\"text-align: right;\">\n",
       "      <th></th>\n",
       "      <th>ward</th>\n",
       "      <th>total</th>\n",
       "    </tr>\n",
       "  </thead>\n",
       "  <tbody>\n",
       "    <tr>\n",
       "      <th>0</th>\n",
       "      <td>12</td>\n",
       "      <td>453.0</td>\n",
       "    </tr>\n",
       "    <tr>\n",
       "      <th>29</th>\n",
       "      <td>18</td>\n",
       "      <td>416.0</td>\n",
       "    </tr>\n",
       "    <tr>\n",
       "      <th>36</th>\n",
       "      <td>7</td>\n",
       "      <td>414.0</td>\n",
       "    </tr>\n",
       "    <tr>\n",
       "      <th>2</th>\n",
       "      <td>15</td>\n",
       "      <td>390.0</td>\n",
       "    </tr>\n",
       "    <tr>\n",
       "      <th>27</th>\n",
       "      <td>22</td>\n",
       "      <td>264.0</td>\n",
       "    </tr>\n",
       "  </tbody>\n",
       "</table>\n",
       "</div>"
      ],
      "text/plain": [
       "    ward  total\n",
       "0     12  453.0\n",
       "29    18  416.0\n",
       "36     7  414.0\n",
       "2     15  390.0\n",
       "27    22  264.0"
      ]
     },
     "execution_count": 25,
     "metadata": {},
     "output_type": "execute_result"
    }
   ],
   "source": [
    "merged_gdf.sort_values(\"total\", ascending=False).tail()[[\n",
    "    'ward',\n",
    "    'total'\n",
    "]]"
   ]
  },
  {
   "cell_type": "markdown",
   "id": "6ab28f41-33d5-45dc-b76c-293f06c4452c",
   "metadata": {},
   "source": [
    "Output wards totals"
   ]
  },
  {
   "cell_type": "code",
   "execution_count": 26,
   "id": "e0b35281-bd56-48f8-a6fe-8ee79a830171",
   "metadata": {},
   "outputs": [],
   "source": [
    "merged_gdf.to_file(\"./output/wards.geojson\", driver=\"GeoJSON\")"
   ]
  },
  {
   "cell_type": "code",
   "execution_count": 27,
   "id": "5857cbd3-d921-4bbd-84b7-cf7477a879c5",
   "metadata": {},
   "outputs": [],
   "source": [
    "merged_gdf.drop([\"geometry\"], axis=1).sort_values(\"ward\").to_csv(\"./output/wards.csv\", index=False)"
   ]
  },
  {
   "cell_type": "markdown",
   "id": "4480b1a0-eca7-4ee3-b71b-f02e08364c31",
   "metadata": {},
   "source": [
    "What regions got the most?"
   ]
  },
  {
   "cell_type": "code",
   "execution_count": 28,
   "id": "5ce4c89b-1c77-413b-a0f2-6206193a890f",
   "metadata": {},
   "outputs": [],
   "source": [
    "address_gdf = gpd.read_file(\"output/geocoding.geojson\")"
   ]
  },
  {
   "cell_type": "code",
   "execution_count": 29,
   "id": "3da9b43f-0c50-40d4-9c61-05caa7be8066",
   "metadata": {},
   "outputs": [],
   "source": [
    "mapped_gdf = address_gdf.merge(\n",
    "    df[~(df.source == 'parks')],\n",
    "    left_on=\"address\",\n",
    "    right_on=\"address\",\n",
    "    how=\"inner\"\n",
    ")"
   ]
  },
  {
   "cell_type": "code",
   "execution_count": 30,
   "id": "6a757e0d-bce7-47bb-b2cc-08eecfd6fdb7",
   "metadata": {},
   "outputs": [],
   "source": [
    "mapped_gdf.to_file(\"./output/trees.geojson\", driver=\"GeoJSON\")"
   ]
  },
  {
   "cell_type": "code",
   "execution_count": 31,
   "id": "580eae70-64f9-428c-8dc2-489bf0670f77",
   "metadata": {},
   "outputs": [],
   "source": [
    "joined_gdf = gpd.sjoin(mapped_gdf, regions_gdf, how=\"left\")"
   ]
  },
  {
   "cell_type": "code",
   "execution_count": 32,
   "id": "9810ac46-8475-4590-bdfe-0edbe7bc3a1a",
   "metadata": {},
   "outputs": [],
   "source": [
    "region_totals_df = joined_gdf.groupby(\"region\").trees.sum().reset_index()"
   ]
  },
  {
   "cell_type": "code",
   "execution_count": 35,
   "id": "ddce0758-93dd-48d5-8228-009330b04637",
   "metadata": {},
   "outputs": [
    {
     "data": {
      "text/html": [
       "<div>\n",
       "<style scoped>\n",
       "    .dataframe tbody tr th:only-of-type {\n",
       "        vertical-align: middle;\n",
       "    }\n",
       "\n",
       "    .dataframe tbody tr th {\n",
       "        vertical-align: top;\n",
       "    }\n",
       "\n",
       "    .dataframe thead th {\n",
       "        text-align: right;\n",
       "    }\n",
       "</style>\n",
       "<table border=\"1\" class=\"dataframe\">\n",
       "  <thead>\n",
       "    <tr style=\"text-align: right;\">\n",
       "      <th></th>\n",
       "      <th>region</th>\n",
       "      <th>trees</th>\n",
       "    </tr>\n",
       "  </thead>\n",
       "  <tbody>\n",
       "    <tr>\n",
       "      <th>0</th>\n",
       "      <td>Central</td>\n",
       "      <td>1944</td>\n",
       "    </tr>\n",
       "    <tr>\n",
       "      <th>1</th>\n",
       "      <td>Far South</td>\n",
       "      <td>3452</td>\n",
       "    </tr>\n",
       "    <tr>\n",
       "      <th>2</th>\n",
       "      <td>North</td>\n",
       "      <td>7135</td>\n",
       "    </tr>\n",
       "    <tr>\n",
       "      <th>3</th>\n",
       "      <td>Northwest</td>\n",
       "      <td>10045</td>\n",
       "    </tr>\n",
       "    <tr>\n",
       "      <th>4</th>\n",
       "      <td>South</td>\n",
       "      <td>3796</td>\n",
       "    </tr>\n",
       "    <tr>\n",
       "      <th>5</th>\n",
       "      <td>Southwest</td>\n",
       "      <td>5963</td>\n",
       "    </tr>\n",
       "    <tr>\n",
       "      <th>6</th>\n",
       "      <td>West</td>\n",
       "      <td>8020</td>\n",
       "    </tr>\n",
       "  </tbody>\n",
       "</table>\n",
       "</div>"
      ],
      "text/plain": [
       "      region  trees\n",
       "0    Central   1944\n",
       "1  Far South   3452\n",
       "2      North   7135\n",
       "3  Northwest  10045\n",
       "4      South   3796\n",
       "5  Southwest   5963\n",
       "6       West   8020"
      ]
     },
     "execution_count": 35,
     "metadata": {},
     "output_type": "execute_result"
    }
   ],
   "source": [
    "region_totals_df"
   ]
  },
  {
   "cell_type": "code",
   "execution_count": 36,
   "id": "174da658-8c6f-4a0c-9cc4-f91936af516e",
   "metadata": {},
   "outputs": [],
   "source": [
    "region_totals_df.to_csv(\"./output/regions.csv\", index=False)"
   ]
  }
 ],
 "metadata": {
  "kernelspec": {
   "display_name": "Python 3 (ipykernel)",
   "language": "python",
   "name": "python3"
  },
  "language_info": {
   "codemirror_mode": {
    "name": "ipython",
    "version": 3
   },
   "file_extension": ".py",
   "mimetype": "text/x-python",
   "name": "python",
   "nbconvert_exporter": "python",
   "pygments_lexer": "ipython3",
   "version": "3.9.7"
  }
 },
 "nbformat": 4,
 "nbformat_minor": 5
}
